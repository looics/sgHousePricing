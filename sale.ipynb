{
 "cells": [
  {
   "cell_type": "code",
   "execution_count": 1,
   "id": "b39c8b91-fcd8-41fc-97e0-266aa0ddafba",
   "metadata": {},
   "outputs": [],
   "source": [
    "import pandas as pd\n",
    "import numpy as np\n",
    "import os\n",
    "import seaborn as sns\n",
    "import matplotlib.pyplot as plt"
   ]
  },
  {
   "cell_type": "code",
   "execution_count": 2,
   "id": "a45d0414-2ed0-432c-92e9-bdfff580e12f",
   "metadata": {},
   "outputs": [],
   "source": [
    "data_1 = 'data/resale-flat-prices-based-on-approval-date-1990-1999.csv'\n",
    "data_2 = 'data/resale-flat-prices-based-on-approval-date-2000-feb-2012.csv'\n",
    "data_3 = 'data/resale-flat-prices-based-on-registration-date-from-mar-2012-to-dec-2014.csv'\n",
    "data_4 = 'data/resale-flat-prices-based-on-registration-date-from-jan-2015-to-dec-2016.csv'\n",
    "data_5 = 'data/resale-flat-prices-based-on-registration-date-from-jan-2017-onwards.csv'"
   ]
  },
  {
   "cell_type": "code",
   "execution_count": 3,
   "id": "8650ecc6-6dcd-4f05-89cd-4abb5231de0d",
   "metadata": {},
   "outputs": [],
   "source": [
    "def readCSV(file_path):\n",
    "    df = pd.read_csv(file_path)\n",
    "    return df"
   ]
  },
  {
   "cell_type": "code",
   "execution_count": 4,
   "id": "c1afc8e9-aee2-4c45-8e17-cd49f0f0528c",
   "metadata": {},
   "outputs": [],
   "source": [
    "df1 = readCSV(data_1)"
   ]
  },
  {
   "cell_type": "code",
   "execution_count": 5,
   "id": "a463928f-e303-4246-9177-5ffce9284769",
   "metadata": {},
   "outputs": [],
   "source": [
    "df2 = readCSV(data_2)"
   ]
  },
  {
   "cell_type": "code",
   "execution_count": 6,
   "id": "e3e516e3-b471-49f8-93fd-903c4a30451f",
   "metadata": {},
   "outputs": [],
   "source": [
    "df3 = readCSV(data_3)"
   ]
  },
  {
   "cell_type": "code",
   "execution_count": 7,
   "id": "4325be33-d0a4-4984-89c1-602d2afe5c50",
   "metadata": {},
   "outputs": [],
   "source": [
    "df4 = readCSV(data_4)"
   ]
  },
  {
   "cell_type": "code",
   "execution_count": 8,
   "id": "f1875e55-6634-4ef1-b96b-3bd2d837d52b",
   "metadata": {},
   "outputs": [],
   "source": [
    "df5 = readCSV(data_5)"
   ]
  },
  {
   "cell_type": "code",
   "execution_count": 9,
   "id": "2ac5bc5e-3b82-4dea-98d6-308900a84092",
   "metadata": {},
   "outputs": [],
   "source": [
    "### Drop remaining_lease in df4 and df5\n",
    "df4 = df4.drop(columns=['remaining_lease'])\n",
    "df5 = df5.drop(columns=['remaining_lease'])"
   ]
  },
  {
   "cell_type": "code",
   "execution_count": 10,
   "id": "f42e9cd2-3736-405c-90d5-3f67011cf62e",
   "metadata": {},
   "outputs": [],
   "source": [
    "### Merge every df\n",
    "df_list = [df1,df2,df3,df4,df5]\n",
    "merged_df = pd.concat(df_list)"
   ]
  },
  {
   "cell_type": "code",
   "execution_count": 11,
   "id": "c6717d0f-34de-40d9-b4ee-5729ea645c60",
   "metadata": {},
   "outputs": [],
   "source": [
    "merged_df['month'] =  pd.to_datetime(merged_df['month'], format='%Y-%m').dt.to_period('m')\n",
    "merged_df['flat_model'] = merged_df['flat_model'].str.upper()\n",
    "merged_df['town'] = merged_df['town'].str.upper()\n",
    "merged_df['flat_type'] = merged_df['flat_type'].str.upper()\n",
    "merged_df['flat_type'] = merged_df['flat_type'].str.replace('-',' ')"
   ]
  },
  {
   "cell_type": "code",
   "execution_count": 12,
   "id": "b3d7f1ee-731f-413b-af63-a0e73041a680",
   "metadata": {},
   "outputs": [
    {
     "data": {
      "text/plain": [
       "Index(['month', 'town', 'flat_type', 'block', 'street_name', 'storey_range',\n",
       "       'floor_area_sqm', 'flat_model', 'lease_commence_date', 'resale_price'],\n",
       "      dtype='object')"
      ]
     },
     "execution_count": 12,
     "metadata": {},
     "output_type": "execute_result"
    }
   ],
   "source": [
    "merged_df.columns"
   ]
  },
  {
   "cell_type": "code",
   "execution_count": 13,
   "id": "98b14c6e-22ed-4358-81ce-d2023fc51e25",
   "metadata": {},
   "outputs": [
    {
     "data": {
      "text/plain": [
       "array(['ANG MO KIO', 'BEDOK', 'BISHAN', 'BUKIT BATOK', 'BUKIT MERAH',\n",
       "       'BUKIT TIMAH', 'CENTRAL AREA', 'CHOA CHU KANG', 'CLEMENTI',\n",
       "       'GEYLANG', 'HOUGANG', 'JURONG EAST', 'JURONG WEST',\n",
       "       'KALLANG/WHAMPOA', 'MARINE PARADE', 'QUEENSTOWN', 'SENGKANG',\n",
       "       'SERANGOON', 'TAMPINES', 'TOA PAYOH', 'WOODLANDS', 'YISHUN',\n",
       "       'LIM CHU KANG', 'SEMBAWANG', 'BUKIT PANJANG', 'PASIR RIS',\n",
       "       'PUNGGOL'], dtype=object)"
      ]
     },
     "execution_count": 13,
     "metadata": {},
     "output_type": "execute_result"
    }
   ],
   "source": [
    "merged_df['town'].unique()"
   ]
  },
  {
   "cell_type": "code",
   "execution_count": 14,
   "id": "5eff393f-0785-4f06-bbff-9677f50aa60a",
   "metadata": {},
   "outputs": [
    {
     "data": {
      "text/plain": [
       "array(['1 ROOM', '3 ROOM', '4 ROOM', '5 ROOM', '2 ROOM', 'EXECUTIVE',\n",
       "       'MULTI GENERATION'], dtype=object)"
      ]
     },
     "execution_count": 14,
     "metadata": {},
     "output_type": "execute_result"
    }
   ],
   "source": [
    "merged_df['flat_type'].unique()"
   ]
  },
  {
   "cell_type": "code",
   "execution_count": 15,
   "id": "8cc6f479-b0e8-4c43-95e9-f8f7e6eecc21",
   "metadata": {},
   "outputs": [
    {
     "data": {
      "text/plain": [
       "array(['IMPROVED', 'NEW GENERATION', 'MODEL A', 'STANDARD', 'SIMPLIFIED',\n",
       "       'MODEL A-MAISONETTE', 'APARTMENT', 'MAISONETTE', 'TERRACE',\n",
       "       '2-ROOM', 'IMPROVED-MAISONETTE', 'MULTI GENERATION',\n",
       "       'PREMIUM APARTMENT', 'ADJOINED FLAT', 'PREMIUM MAISONETTE',\n",
       "       'MODEL A2', 'DBSS', 'TYPE S1', 'TYPE S2', 'PREMIUM APARTMENT LOFT',\n",
       "       '3GEN'], dtype=object)"
      ]
     },
     "execution_count": 15,
     "metadata": {},
     "output_type": "execute_result"
    }
   ],
   "source": [
    "merged_df['flat_model'].unique()"
   ]
  },
  {
   "cell_type": "code",
   "execution_count": 16,
   "id": "20e10888-4b5e-42db-bb38-1401c32fce39",
   "metadata": {},
   "outputs": [
    {
     "data": {
      "text/plain": [
       "month                  False\n",
       "town                   False\n",
       "flat_type              False\n",
       "block                  False\n",
       "street_name            False\n",
       "storey_range           False\n",
       "floor_area_sqm         False\n",
       "flat_model             False\n",
       "lease_commence_date    False\n",
       "resale_price           False\n",
       "dtype: bool"
      ]
     },
     "execution_count": 16,
     "metadata": {},
     "output_type": "execute_result"
    }
   ],
   "source": [
    "#### Check empty data\n",
    "merged_df.isna().any()"
   ]
  },
  {
   "cell_type": "code",
   "execution_count": 17,
   "id": "565ee177-6e1a-4c34-86cb-9a9b3f510586",
   "metadata": {},
   "outputs": [
    {
     "data": {
      "text/html": [
       "<div>\n",
       "<style scoped>\n",
       "    .dataframe tbody tr th:only-of-type {\n",
       "        vertical-align: middle;\n",
       "    }\n",
       "\n",
       "    .dataframe tbody tr th {\n",
       "        vertical-align: top;\n",
       "    }\n",
       "\n",
       "    .dataframe thead th {\n",
       "        text-align: right;\n",
       "    }\n",
       "</style>\n",
       "<table border=\"1\" class=\"dataframe\">\n",
       "  <thead>\n",
       "    <tr style=\"text-align: right;\">\n",
       "      <th></th>\n",
       "      <th>month</th>\n",
       "      <th>town</th>\n",
       "      <th>flat_type</th>\n",
       "      <th>block</th>\n",
       "      <th>street_name</th>\n",
       "      <th>storey_range</th>\n",
       "      <th>floor_area_sqm</th>\n",
       "      <th>flat_model</th>\n",
       "      <th>lease_commence_date</th>\n",
       "      <th>resale_price</th>\n",
       "    </tr>\n",
       "  </thead>\n",
       "  <tbody>\n",
       "    <tr>\n",
       "      <th>0</th>\n",
       "      <td>1990-01</td>\n",
       "      <td>ANG MO KIO</td>\n",
       "      <td>1 ROOM</td>\n",
       "      <td>309</td>\n",
       "      <td>ANG MO KIO AVE 1</td>\n",
       "      <td>10 TO 12</td>\n",
       "      <td>31.0</td>\n",
       "      <td>IMPROVED</td>\n",
       "      <td>1977</td>\n",
       "      <td>9000.0</td>\n",
       "    </tr>\n",
       "    <tr>\n",
       "      <th>1</th>\n",
       "      <td>1990-01</td>\n",
       "      <td>ANG MO KIO</td>\n",
       "      <td>1 ROOM</td>\n",
       "      <td>309</td>\n",
       "      <td>ANG MO KIO AVE 1</td>\n",
       "      <td>04 TO 06</td>\n",
       "      <td>31.0</td>\n",
       "      <td>IMPROVED</td>\n",
       "      <td>1977</td>\n",
       "      <td>6000.0</td>\n",
       "    </tr>\n",
       "    <tr>\n",
       "      <th>2</th>\n",
       "      <td>1990-01</td>\n",
       "      <td>ANG MO KIO</td>\n",
       "      <td>1 ROOM</td>\n",
       "      <td>309</td>\n",
       "      <td>ANG MO KIO AVE 1</td>\n",
       "      <td>10 TO 12</td>\n",
       "      <td>31.0</td>\n",
       "      <td>IMPROVED</td>\n",
       "      <td>1977</td>\n",
       "      <td>8000.0</td>\n",
       "    </tr>\n",
       "    <tr>\n",
       "      <th>3</th>\n",
       "      <td>1990-01</td>\n",
       "      <td>ANG MO KIO</td>\n",
       "      <td>1 ROOM</td>\n",
       "      <td>309</td>\n",
       "      <td>ANG MO KIO AVE 1</td>\n",
       "      <td>07 TO 09</td>\n",
       "      <td>31.0</td>\n",
       "      <td>IMPROVED</td>\n",
       "      <td>1977</td>\n",
       "      <td>6000.0</td>\n",
       "    </tr>\n",
       "    <tr>\n",
       "      <th>4</th>\n",
       "      <td>1990-01</td>\n",
       "      <td>ANG MO KIO</td>\n",
       "      <td>3 ROOM</td>\n",
       "      <td>216</td>\n",
       "      <td>ANG MO KIO AVE 1</td>\n",
       "      <td>04 TO 06</td>\n",
       "      <td>73.0</td>\n",
       "      <td>NEW GENERATION</td>\n",
       "      <td>1976</td>\n",
       "      <td>47200.0</td>\n",
       "    </tr>\n",
       "    <tr>\n",
       "      <th>5</th>\n",
       "      <td>1990-01</td>\n",
       "      <td>ANG MO KIO</td>\n",
       "      <td>3 ROOM</td>\n",
       "      <td>211</td>\n",
       "      <td>ANG MO KIO AVE 3</td>\n",
       "      <td>01 TO 03</td>\n",
       "      <td>67.0</td>\n",
       "      <td>NEW GENERATION</td>\n",
       "      <td>1977</td>\n",
       "      <td>46000.0</td>\n",
       "    </tr>\n",
       "    <tr>\n",
       "      <th>6</th>\n",
       "      <td>1990-01</td>\n",
       "      <td>ANG MO KIO</td>\n",
       "      <td>3 ROOM</td>\n",
       "      <td>202</td>\n",
       "      <td>ANG MO KIO AVE 3</td>\n",
       "      <td>07 TO 09</td>\n",
       "      <td>67.0</td>\n",
       "      <td>NEW GENERATION</td>\n",
       "      <td>1977</td>\n",
       "      <td>42000.0</td>\n",
       "    </tr>\n",
       "    <tr>\n",
       "      <th>7</th>\n",
       "      <td>1990-01</td>\n",
       "      <td>ANG MO KIO</td>\n",
       "      <td>3 ROOM</td>\n",
       "      <td>235</td>\n",
       "      <td>ANG MO KIO AVE 3</td>\n",
       "      <td>10 TO 12</td>\n",
       "      <td>67.0</td>\n",
       "      <td>NEW GENERATION</td>\n",
       "      <td>1977</td>\n",
       "      <td>38000.0</td>\n",
       "    </tr>\n",
       "    <tr>\n",
       "      <th>8</th>\n",
       "      <td>1990-01</td>\n",
       "      <td>ANG MO KIO</td>\n",
       "      <td>3 ROOM</td>\n",
       "      <td>235</td>\n",
       "      <td>ANG MO KIO AVE 3</td>\n",
       "      <td>04 TO 06</td>\n",
       "      <td>67.0</td>\n",
       "      <td>NEW GENERATION</td>\n",
       "      <td>1977</td>\n",
       "      <td>40000.0</td>\n",
       "    </tr>\n",
       "    <tr>\n",
       "      <th>9</th>\n",
       "      <td>1990-01</td>\n",
       "      <td>ANG MO KIO</td>\n",
       "      <td>3 ROOM</td>\n",
       "      <td>232</td>\n",
       "      <td>ANG MO KIO AVE 3</td>\n",
       "      <td>01 TO 03</td>\n",
       "      <td>67.0</td>\n",
       "      <td>NEW GENERATION</td>\n",
       "      <td>1977</td>\n",
       "      <td>47000.0</td>\n",
       "    </tr>\n",
       "  </tbody>\n",
       "</table>\n",
       "</div>"
      ],
      "text/plain": [
       "     month        town flat_type block       street_name storey_range  \\\n",
       "0  1990-01  ANG MO KIO    1 ROOM   309  ANG MO KIO AVE 1     10 TO 12   \n",
       "1  1990-01  ANG MO KIO    1 ROOM   309  ANG MO KIO AVE 1     04 TO 06   \n",
       "2  1990-01  ANG MO KIO    1 ROOM   309  ANG MO KIO AVE 1     10 TO 12   \n",
       "3  1990-01  ANG MO KIO    1 ROOM   309  ANG MO KIO AVE 1     07 TO 09   \n",
       "4  1990-01  ANG MO KIO    3 ROOM   216  ANG MO KIO AVE 1     04 TO 06   \n",
       "5  1990-01  ANG MO KIO    3 ROOM   211  ANG MO KIO AVE 3     01 TO 03   \n",
       "6  1990-01  ANG MO KIO    3 ROOM   202  ANG MO KIO AVE 3     07 TO 09   \n",
       "7  1990-01  ANG MO KIO    3 ROOM   235  ANG MO KIO AVE 3     10 TO 12   \n",
       "8  1990-01  ANG MO KIO    3 ROOM   235  ANG MO KIO AVE 3     04 TO 06   \n",
       "9  1990-01  ANG MO KIO    3 ROOM   232  ANG MO KIO AVE 3     01 TO 03   \n",
       "\n",
       "   floor_area_sqm      flat_model  lease_commence_date  resale_price  \n",
       "0            31.0        IMPROVED                 1977        9000.0  \n",
       "1            31.0        IMPROVED                 1977        6000.0  \n",
       "2            31.0        IMPROVED                 1977        8000.0  \n",
       "3            31.0        IMPROVED                 1977        6000.0  \n",
       "4            73.0  NEW GENERATION                 1976       47200.0  \n",
       "5            67.0  NEW GENERATION                 1977       46000.0  \n",
       "6            67.0  NEW GENERATION                 1977       42000.0  \n",
       "7            67.0  NEW GENERATION                 1977       38000.0  \n",
       "8            67.0  NEW GENERATION                 1977       40000.0  \n",
       "9            67.0  NEW GENERATION                 1977       47000.0  "
      ]
     },
     "execution_count": 17,
     "metadata": {},
     "output_type": "execute_result"
    }
   ],
   "source": [
    "merged_df.head(10)"
   ]
  },
  {
   "cell_type": "code",
   "execution_count": null,
   "id": "e886bb37-169a-4601-b543-217089058242",
   "metadata": {},
   "outputs": [],
   "source": []
  },
  {
   "cell_type": "code",
   "execution_count": null,
   "id": "d2bc4784-639f-4e35-b1d4-ce9c44e68451",
   "metadata": {},
   "outputs": [],
   "source": []
  },
  {
   "cell_type": "markdown",
   "id": "77b5412d-537e-481a-938f-b1c1615dd37f",
   "metadata": {
    "tags": []
   },
   "source": [
    "## Drop unwanted data"
   ]
  },
  {
   "cell_type": "code",
   "execution_count": 18,
   "id": "36b4f04d-6d45-44f0-9896-04298d1362e6",
   "metadata": {},
   "outputs": [],
   "source": [
    "new_merged_df = merged_df.drop(columns=['block','street_name','storey_range','lease_commence_date'])"
   ]
  },
  {
   "cell_type": "code",
   "execution_count": null,
   "id": "1a400748-d0cc-4ac0-876a-bc6c5985e65d",
   "metadata": {},
   "outputs": [],
   "source": []
  },
  {
   "cell_type": "markdown",
   "id": "272bf3c3-2623-476f-8b01-62050838bf33",
   "metadata": {},
   "source": [
    "## Convert categorical to numerical"
   ]
  },
  {
   "cell_type": "code",
   "execution_count": 19,
   "id": "3f3b1707-9ab9-490d-9bc6-ac270f1b3431",
   "metadata": {},
   "outputs": [],
   "source": [
    "converted_df = merged_df.copy()"
   ]
  },
  {
   "cell_type": "code",
   "execution_count": 20,
   "id": "58a2882a-56f8-4320-9cb6-d23250445a7f",
   "metadata": {},
   "outputs": [],
   "source": [
    "# Nominal to numerical\n",
    "conversion = ['flat_model','town','flat_type']"
   ]
  },
  {
   "cell_type": "code",
   "execution_count": 21,
   "id": "b6b0050b-893d-45e6-8d22-90033b694968",
   "metadata": {},
   "outputs": [
    {
     "data": {
      "text/plain": [
       "month                  period[M]\n",
       "town                    category\n",
       "flat_type               category\n",
       "block                     object\n",
       "street_name               object\n",
       "storey_range              object\n",
       "floor_area_sqm           float64\n",
       "flat_model              category\n",
       "lease_commence_date        int64\n",
       "resale_price             float64\n",
       "dtype: object"
      ]
     },
     "execution_count": 21,
     "metadata": {},
     "output_type": "execute_result"
    }
   ],
   "source": [
    "converted_df[conversion] = new_merged_df[conversion].astype('category')\n",
    "converted_df.dtypes"
   ]
  },
  {
   "cell_type": "code",
   "execution_count": 22,
   "id": "ab6bc2c9-5465-4d25-bbd7-cc25d512b9d3",
   "metadata": {},
   "outputs": [],
   "source": [
    "converted_df[\"town_cat\"] = converted_df[\"town\"].cat.codes\n",
    "converted_df[\"flat_type_cat\"] = converted_df[\"flat_type\"].cat.codes\n",
    "converted_df[\"flat_model_cat\"] = converted_df[\"flat_model\"].cat.codes"
   ]
  },
  {
   "cell_type": "code",
   "execution_count": 23,
   "id": "49ea82bc-c633-4fd6-aff5-0712f4ae22f6",
   "metadata": {},
   "outputs": [
    {
     "data": {
      "text/html": [
       "<div>\n",
       "<style scoped>\n",
       "    .dataframe tbody tr th:only-of-type {\n",
       "        vertical-align: middle;\n",
       "    }\n",
       "\n",
       "    .dataframe tbody tr th {\n",
       "        vertical-align: top;\n",
       "    }\n",
       "\n",
       "    .dataframe thead th {\n",
       "        text-align: right;\n",
       "    }\n",
       "</style>\n",
       "<table border=\"1\" class=\"dataframe\">\n",
       "  <thead>\n",
       "    <tr style=\"text-align: right;\">\n",
       "      <th></th>\n",
       "      <th>month</th>\n",
       "      <th>town</th>\n",
       "      <th>flat_type</th>\n",
       "      <th>block</th>\n",
       "      <th>street_name</th>\n",
       "      <th>storey_range</th>\n",
       "      <th>floor_area_sqm</th>\n",
       "      <th>flat_model</th>\n",
       "      <th>lease_commence_date</th>\n",
       "      <th>resale_price</th>\n",
       "      <th>town_cat</th>\n",
       "      <th>flat_type_cat</th>\n",
       "      <th>flat_model_cat</th>\n",
       "    </tr>\n",
       "  </thead>\n",
       "  <tbody>\n",
       "    <tr>\n",
       "      <th>0</th>\n",
       "      <td>1990-01</td>\n",
       "      <td>ANG MO KIO</td>\n",
       "      <td>1 ROOM</td>\n",
       "      <td>309</td>\n",
       "      <td>ANG MO KIO AVE 1</td>\n",
       "      <td>10 TO 12</td>\n",
       "      <td>31.0</td>\n",
       "      <td>IMPROVED</td>\n",
       "      <td>1977</td>\n",
       "      <td>9000.0</td>\n",
       "      <td>0</td>\n",
       "      <td>0</td>\n",
       "      <td>5</td>\n",
       "    </tr>\n",
       "    <tr>\n",
       "      <th>1</th>\n",
       "      <td>1990-01</td>\n",
       "      <td>ANG MO KIO</td>\n",
       "      <td>1 ROOM</td>\n",
       "      <td>309</td>\n",
       "      <td>ANG MO KIO AVE 1</td>\n",
       "      <td>04 TO 06</td>\n",
       "      <td>31.0</td>\n",
       "      <td>IMPROVED</td>\n",
       "      <td>1977</td>\n",
       "      <td>6000.0</td>\n",
       "      <td>0</td>\n",
       "      <td>0</td>\n",
       "      <td>5</td>\n",
       "    </tr>\n",
       "    <tr>\n",
       "      <th>2</th>\n",
       "      <td>1990-01</td>\n",
       "      <td>ANG MO KIO</td>\n",
       "      <td>1 ROOM</td>\n",
       "      <td>309</td>\n",
       "      <td>ANG MO KIO AVE 1</td>\n",
       "      <td>10 TO 12</td>\n",
       "      <td>31.0</td>\n",
       "      <td>IMPROVED</td>\n",
       "      <td>1977</td>\n",
       "      <td>8000.0</td>\n",
       "      <td>0</td>\n",
       "      <td>0</td>\n",
       "      <td>5</td>\n",
       "    </tr>\n",
       "    <tr>\n",
       "      <th>3</th>\n",
       "      <td>1990-01</td>\n",
       "      <td>ANG MO KIO</td>\n",
       "      <td>1 ROOM</td>\n",
       "      <td>309</td>\n",
       "      <td>ANG MO KIO AVE 1</td>\n",
       "      <td>07 TO 09</td>\n",
       "      <td>31.0</td>\n",
       "      <td>IMPROVED</td>\n",
       "      <td>1977</td>\n",
       "      <td>6000.0</td>\n",
       "      <td>0</td>\n",
       "      <td>0</td>\n",
       "      <td>5</td>\n",
       "    </tr>\n",
       "    <tr>\n",
       "      <th>4</th>\n",
       "      <td>1990-01</td>\n",
       "      <td>ANG MO KIO</td>\n",
       "      <td>3 ROOM</td>\n",
       "      <td>216</td>\n",
       "      <td>ANG MO KIO AVE 1</td>\n",
       "      <td>04 TO 06</td>\n",
       "      <td>73.0</td>\n",
       "      <td>NEW GENERATION</td>\n",
       "      <td>1976</td>\n",
       "      <td>47200.0</td>\n",
       "      <td>0</td>\n",
       "      <td>2</td>\n",
       "      <td>12</td>\n",
       "    </tr>\n",
       "    <tr>\n",
       "      <th>...</th>\n",
       "      <td>...</td>\n",
       "      <td>...</td>\n",
       "      <td>...</td>\n",
       "      <td>...</td>\n",
       "      <td>...</td>\n",
       "      <td>...</td>\n",
       "      <td>...</td>\n",
       "      <td>...</td>\n",
       "      <td>...</td>\n",
       "      <td>...</td>\n",
       "      <td>...</td>\n",
       "      <td>...</td>\n",
       "      <td>...</td>\n",
       "    </tr>\n",
       "    <tr>\n",
       "      <th>147905</th>\n",
       "      <td>2023-03</td>\n",
       "      <td>YISHUN</td>\n",
       "      <td>3 ROOM</td>\n",
       "      <td>270</td>\n",
       "      <td>YISHUN ST 22</td>\n",
       "      <td>10 TO 12</td>\n",
       "      <td>74.0</td>\n",
       "      <td>MODEL A</td>\n",
       "      <td>1987</td>\n",
       "      <td>350000.0</td>\n",
       "      <td>26</td>\n",
       "      <td>2</td>\n",
       "      <td>8</td>\n",
       "    </tr>\n",
       "    <tr>\n",
       "      <th>147906</th>\n",
       "      <td>2023-03</td>\n",
       "      <td>YISHUN</td>\n",
       "      <td>4 ROOM</td>\n",
       "      <td>236</td>\n",
       "      <td>YISHUN RING RD</td>\n",
       "      <td>01 TO 03</td>\n",
       "      <td>93.0</td>\n",
       "      <td>NEW GENERATION</td>\n",
       "      <td>1985</td>\n",
       "      <td>450000.0</td>\n",
       "      <td>26</td>\n",
       "      <td>3</td>\n",
       "      <td>12</td>\n",
       "    </tr>\n",
       "    <tr>\n",
       "      <th>147907</th>\n",
       "      <td>2023-03</td>\n",
       "      <td>YISHUN</td>\n",
       "      <td>4 ROOM</td>\n",
       "      <td>279</td>\n",
       "      <td>YISHUN ST 22</td>\n",
       "      <td>07 TO 09</td>\n",
       "      <td>84.0</td>\n",
       "      <td>SIMPLIFIED</td>\n",
       "      <td>1985</td>\n",
       "      <td>390000.0</td>\n",
       "      <td>26</td>\n",
       "      <td>3</td>\n",
       "      <td>16</td>\n",
       "    </tr>\n",
       "    <tr>\n",
       "      <th>147908</th>\n",
       "      <td>2023-03</td>\n",
       "      <td>YISHUN</td>\n",
       "      <td>4 ROOM</td>\n",
       "      <td>513C</td>\n",
       "      <td>YISHUN ST 51</td>\n",
       "      <td>07 TO 09</td>\n",
       "      <td>93.0</td>\n",
       "      <td>MODEL A</td>\n",
       "      <td>2018</td>\n",
       "      <td>550000.0</td>\n",
       "      <td>26</td>\n",
       "      <td>3</td>\n",
       "      <td>8</td>\n",
       "    </tr>\n",
       "    <tr>\n",
       "      <th>147909</th>\n",
       "      <td>2023-03</td>\n",
       "      <td>YISHUN</td>\n",
       "      <td>5 ROOM</td>\n",
       "      <td>820</td>\n",
       "      <td>YISHUN ST 81</td>\n",
       "      <td>07 TO 09</td>\n",
       "      <td>122.0</td>\n",
       "      <td>IMPROVED</td>\n",
       "      <td>1988</td>\n",
       "      <td>650000.0</td>\n",
       "      <td>26</td>\n",
       "      <td>4</td>\n",
       "      <td>5</td>\n",
       "    </tr>\n",
       "  </tbody>\n",
       "</table>\n",
       "<p>894113 rows × 13 columns</p>\n",
       "</div>"
      ],
      "text/plain": [
       "          month        town flat_type block       street_name storey_range  \\\n",
       "0       1990-01  ANG MO KIO    1 ROOM   309  ANG MO KIO AVE 1     10 TO 12   \n",
       "1       1990-01  ANG MO KIO    1 ROOM   309  ANG MO KIO AVE 1     04 TO 06   \n",
       "2       1990-01  ANG MO KIO    1 ROOM   309  ANG MO KIO AVE 1     10 TO 12   \n",
       "3       1990-01  ANG MO KIO    1 ROOM   309  ANG MO KIO AVE 1     07 TO 09   \n",
       "4       1990-01  ANG MO KIO    3 ROOM   216  ANG MO KIO AVE 1     04 TO 06   \n",
       "...         ...         ...       ...   ...               ...          ...   \n",
       "147905  2023-03      YISHUN    3 ROOM   270      YISHUN ST 22     10 TO 12   \n",
       "147906  2023-03      YISHUN    4 ROOM   236    YISHUN RING RD     01 TO 03   \n",
       "147907  2023-03      YISHUN    4 ROOM   279      YISHUN ST 22     07 TO 09   \n",
       "147908  2023-03      YISHUN    4 ROOM  513C      YISHUN ST 51     07 TO 09   \n",
       "147909  2023-03      YISHUN    5 ROOM   820      YISHUN ST 81     07 TO 09   \n",
       "\n",
       "        floor_area_sqm      flat_model  lease_commence_date  resale_price  \\\n",
       "0                 31.0        IMPROVED                 1977        9000.0   \n",
       "1                 31.0        IMPROVED                 1977        6000.0   \n",
       "2                 31.0        IMPROVED                 1977        8000.0   \n",
       "3                 31.0        IMPROVED                 1977        6000.0   \n",
       "4                 73.0  NEW GENERATION                 1976       47200.0   \n",
       "...                ...             ...                  ...           ...   \n",
       "147905            74.0         MODEL A                 1987      350000.0   \n",
       "147906            93.0  NEW GENERATION                 1985      450000.0   \n",
       "147907            84.0      SIMPLIFIED                 1985      390000.0   \n",
       "147908            93.0         MODEL A                 2018      550000.0   \n",
       "147909           122.0        IMPROVED                 1988      650000.0   \n",
       "\n",
       "        town_cat  flat_type_cat  flat_model_cat  \n",
       "0              0              0               5  \n",
       "1              0              0               5  \n",
       "2              0              0               5  \n",
       "3              0              0               5  \n",
       "4              0              2              12  \n",
       "...          ...            ...             ...  \n",
       "147905        26              2               8  \n",
       "147906        26              3              12  \n",
       "147907        26              3              16  \n",
       "147908        26              3               8  \n",
       "147909        26              4               5  \n",
       "\n",
       "[894113 rows x 13 columns]"
      ]
     },
     "execution_count": 23,
     "metadata": {},
     "output_type": "execute_result"
    }
   ],
   "source": [
    "converted_df"
   ]
  },
  {
   "cell_type": "code",
   "execution_count": 24,
   "id": "5de54a8f-071d-42ca-8806-7fcf09e38782",
   "metadata": {},
   "outputs": [
    {
     "data": {
      "text/plain": [
       "month                  period[M]\n",
       "town                    category\n",
       "flat_type               category\n",
       "block                     object\n",
       "street_name               object\n",
       "storey_range              object\n",
       "floor_area_sqm           float64\n",
       "flat_model              category\n",
       "lease_commence_date        int64\n",
       "resale_price             float64\n",
       "town_cat                    int8\n",
       "flat_type_cat               int8\n",
       "flat_model_cat              int8\n",
       "dtype: object"
      ]
     },
     "execution_count": 24,
     "metadata": {},
     "output_type": "execute_result"
    }
   ],
   "source": [
    "converted_df.dtypes"
   ]
  },
  {
   "cell_type": "markdown",
   "id": "76d97fb1-dbd5-487d-b3d2-374bc3da5504",
   "metadata": {
    "jp-MarkdownHeadingCollapsed": true,
    "tags": []
   },
   "source": [
    "### EDA"
   ]
  },
  {
   "cell_type": "code",
   "execution_count": 27,
   "id": "11ebd5b5-45a0-4d18-accd-c3a1913d90b1",
   "metadata": {},
   "outputs": [
    {
     "name": "stderr",
     "output_type": "stream",
     "text": [
      "C:\\Users\\mapro\\AppData\\Local\\Temp\\ipykernel_33152\\1946478538.py:3: FutureWarning: The default value of numeric_only in DataFrame.corr is deprecated. In a future version, it will default to False. Select only valid columns or specify the value of numeric_only to silence this warning.\n",
      "  corr = converted_df.corr()\n"
     ]
    },
    {
     "data": {
      "image/png": "[encoded data removed]",
      "text/plain": [
       "<Figure size 500x400 with 2 Axes>"
      ]
     },
     "metadata": {},
     "output_type": "display_data"
    }
   ],
   "source": [
    "\n",
    "corr = converted_df.corr()\n",
    "f, ax = plt.subplots(figsize=(5, 4))\n",
    "sns.heatmap(corr, vmax=1, square=True, annot=True, fmt=\".2f\");"
   ]
  },
  {
   "cell_type": "markdown",
   "id": "f029a882-c323-4fc1-b667-43d8ccd337ce",
   "metadata": {},
   "source": [
    "Based on the correlation of each variables, it can be said that resale price of a HDB flat has particularly very insignficant positive correlation with the location of the HDB flat <br>\n",
    "Resale prices are largely correlated to to the floor area of the unit, lease commercement date and its' flat type. One should take note that HDB Flat type are largely tied to the floor area of the HDB flat. Ie, 2-room flat unit will have a smaller SQM than 3-room, 4-room, 5-room, etc."
   ]
  },
  {
   "cell_type": "code",
   "execution_count": 28,
   "id": "0962278b-905e-4a11-b9ab-7980b3e5d426",
   "metadata": {},
   "outputs": [],
   "source": [
    "cols = ['resale_price','floor_area_sqm','lease_commence_date','flat_type_cat']"
   ]
  },
  {
   "cell_type": "code",
   "execution_count": 29,
   "id": "97010c9b-87cc-4c6b-a3a2-e6c4bf421999",
   "metadata": {},
   "outputs": [],
   "source": [
    "df_1 = converted_df[cols]"
   ]
  },
  {
   "cell_type": "code",
   "execution_count": 30,
   "id": "457c24a3-1453-4346-8bde-8258d5f4f979",
   "metadata": {},
   "outputs": [
    {
     "data": {
      "text/html": [
       "<div>\n",
       "<style scoped>\n",
       "    .dataframe tbody tr th:only-of-type {\n",
       "        vertical-align: middle;\n",
       "    }\n",
       "\n",
       "    .dataframe tbody tr th {\n",
       "        vertical-align: top;\n",
       "    }\n",
       "\n",
       "    .dataframe thead th {\n",
       "        text-align: right;\n",
       "    }\n",
       "</style>\n",
       "<table border=\"1\" class=\"dataframe\">\n",
       "  <thead>\n",
       "    <tr style=\"text-align: right;\">\n",
       "      <th></th>\n",
       "      <th>resale_price</th>\n",
       "      <th>floor_area_sqm</th>\n",
       "      <th>lease_commence_date</th>\n",
       "      <th>flat_type_cat</th>\n",
       "    </tr>\n",
       "  </thead>\n",
       "  <tbody>\n",
       "    <tr>\n",
       "      <th>0</th>\n",
       "      <td>9000.0</td>\n",
       "      <td>31.0</td>\n",
       "      <td>1977</td>\n",
       "      <td>0</td>\n",
       "    </tr>\n",
       "    <tr>\n",
       "      <th>1</th>\n",
       "      <td>6000.0</td>\n",
       "      <td>31.0</td>\n",
       "      <td>1977</td>\n",
       "      <td>0</td>\n",
       "    </tr>\n",
       "    <tr>\n",
       "      <th>2</th>\n",
       "      <td>8000.0</td>\n",
       "      <td>31.0</td>\n",
       "      <td>1977</td>\n",
       "      <td>0</td>\n",
       "    </tr>\n",
       "    <tr>\n",
       "      <th>3</th>\n",
       "      <td>6000.0</td>\n",
       "      <td>31.0</td>\n",
       "      <td>1977</td>\n",
       "      <td>0</td>\n",
       "    </tr>\n",
       "    <tr>\n",
       "      <th>4</th>\n",
       "      <td>47200.0</td>\n",
       "      <td>73.0</td>\n",
       "      <td>1976</td>\n",
       "      <td>2</td>\n",
       "    </tr>\n",
       "    <tr>\n",
       "      <th>...</th>\n",
       "      <td>...</td>\n",
       "      <td>...</td>\n",
       "      <td>...</td>\n",
       "      <td>...</td>\n",
       "    </tr>\n",
       "    <tr>\n",
       "      <th>147905</th>\n",
       "      <td>350000.0</td>\n",
       "      <td>74.0</td>\n",
       "      <td>1987</td>\n",
       "      <td>2</td>\n",
       "    </tr>\n",
       "    <tr>\n",
       "      <th>147906</th>\n",
       "      <td>450000.0</td>\n",
       "      <td>93.0</td>\n",
       "      <td>1985</td>\n",
       "      <td>3</td>\n",
       "    </tr>\n",
       "    <tr>\n",
       "      <th>147907</th>\n",
       "      <td>390000.0</td>\n",
       "      <td>84.0</td>\n",
       "      <td>1985</td>\n",
       "      <td>3</td>\n",
       "    </tr>\n",
       "    <tr>\n",
       "      <th>147908</th>\n",
       "      <td>550000.0</td>\n",
       "      <td>93.0</td>\n",
       "      <td>2018</td>\n",
       "      <td>3</td>\n",
       "    </tr>\n",
       "    <tr>\n",
       "      <th>147909</th>\n",
       "      <td>650000.0</td>\n",
       "      <td>122.0</td>\n",
       "      <td>1988</td>\n",
       "      <td>4</td>\n",
       "    </tr>\n",
       "  </tbody>\n",
       "</table>\n",
       "<p>894113 rows × 4 columns</p>\n",
       "</div>"
      ],
      "text/plain": [
       "        resale_price  floor_area_sqm  lease_commence_date  flat_type_cat\n",
       "0             9000.0            31.0                 1977              0\n",
       "1             6000.0            31.0                 1977              0\n",
       "2             8000.0            31.0                 1977              0\n",
       "3             6000.0            31.0                 1977              0\n",
       "4            47200.0            73.0                 1976              2\n",
       "...              ...             ...                  ...            ...\n",
       "147905      350000.0            74.0                 1987              2\n",
       "147906      450000.0            93.0                 1985              3\n",
       "147907      390000.0            84.0                 1985              3\n",
       "147908      550000.0            93.0                 2018              3\n",
       "147909      650000.0           122.0                 1988              4\n",
       "\n",
       "[894113 rows x 4 columns]"
      ]
     },
     "execution_count": 30,
     "metadata": {},
     "output_type": "execute_result"
    }
   ],
   "source": [
    "df_1"
   ]
  },
  {
   "cell_type": "code",
   "execution_count": 31,
   "id": "6fe562df-ad5a-4fd3-aa42-c938b43ad36c",
   "metadata": {},
   "outputs": [
    {
     "data": {
      "text/plain": [
       "['1 ROOM', '3 ROOM', '4 ROOM', '5 ROOM', '2 ROOM', 'EXECUTIVE', 'MULTI GENERATION']\n",
       "Categories (7, object): ['1 ROOM', '2 ROOM', '3 ROOM', '4 ROOM', '5 ROOM', 'EXECUTIVE', 'MULTI GENERATION']"
      ]
     },
     "execution_count": 31,
     "metadata": {},
     "output_type": "execute_result"
    }
   ],
   "source": [
    "converted_df['flat_type'].unique()"
   ]
  },
  {
   "cell_type": "markdown",
   "id": "c9114497-b6be-4687-9553-75aa8bdfa694",
   "metadata": {},
   "source": [
    "#### Plot scatter graph"
   ]
  },
  {
   "cell_type": "markdown",
   "id": "a0f56bba-2885-4498-9fca-fc0602fe2602",
   "metadata": {},
   "source": [
    "sns.lmplot(data=df_1, y=\"resale_price\", x=\"lease_commence_date\", hue=\"flat_type_cat\")"
   ]
  },
  {
   "cell_type": "code",
   "execution_count": 32,
   "id": "6f555122-b276-4ee1-8281-9015d78bf56d",
   "metadata": {},
   "outputs": [
    {
     "data": {
      "text/plain": [
       "<seaborn.axisgrid.FacetGrid at 0x1e407d08d30>"
      ]
     },
     "execution_count": 32,
     "metadata": {},
     "output_type": "execute_result"
    },
    {
     "data": {
      "image/png": "[encoded data removed]",
      "text/plain": [
       "<Figure size 500x500 with 1 Axes>"
      ]
     },
     "metadata": {},
     "output_type": "display_data"
    }
   ],
   "source": [
    "sns.lmplot(data=df_1, y=\"resale_price\", x=\"lease_commence_date\")"
   ]
  },
  {
   "cell_type": "code",
   "execution_count": 33,
   "id": "d58a15ab-a720-41a7-954d-6ab30b0fec2e",
   "metadata": {},
   "outputs": [
    {
     "data": {
      "text/plain": [
       "<seaborn.axisgrid.FacetGrid at 0x1e4147f9e70>"
      ]
     },
     "execution_count": 33,
     "metadata": {},
     "output_type": "execute_result"
    },
    {
     "data": {
      "image/png": "[encoded data removed]",
      "text/plain": [
       "<Figure size 500x500 with 1 Axes>"
      ]
     },
     "metadata": {},
     "output_type": "display_data"
    }
   ],
   "source": [
    "sns.lmplot(data=df_1, y=\"resale_price\", x=\"flat_type_cat\")"
   ]
  },
  {
   "cell_type": "markdown",
   "id": "e46c43bd-df44-4233-a77b-5041661d7bda",
   "metadata": {},
   "source": [
    "Based on the graph, prices increases exponentially as the flat type category increases. <br>\n",
    "Cat 0 = 1 ROOM, CAT 1 = 2 ROOM, CAT 2 = 3 ROOM, CAT 3 = 4 ROOM, CAT 4 = 5 ROOM, CAT 5 = EXEC, CAT 6 = MULTI-GEN"
   ]
  },
  {
   "cell_type": "code",
   "execution_count": 45,
   "id": "0a6890d2-5740-4ab1-b4c6-cb64bce3ca93",
   "metadata": {},
   "outputs": [
    {
     "data": {
      "text/html": [
       "<div>\n",
       "<style scoped>\n",
       "    .dataframe tbody tr th:only-of-type {\n",
       "        vertical-align: middle;\n",
       "    }\n",
       "\n",
       "    .dataframe tbody tr th {\n",
       "        vertical-align: top;\n",
       "    }\n",
       "\n",
       "    .dataframe thead th {\n",
       "        text-align: right;\n",
       "    }\n",
       "</style>\n",
       "<table border=\"1\" class=\"dataframe\">\n",
       "  <thead>\n",
       "    <tr style=\"text-align: right;\">\n",
       "      <th></th>\n",
       "      <th>month</th>\n",
       "      <th>town</th>\n",
       "      <th>flat_type</th>\n",
       "      <th>block</th>\n",
       "      <th>street_name</th>\n",
       "      <th>storey_range</th>\n",
       "      <th>floor_area_sqm</th>\n",
       "      <th>flat_model</th>\n",
       "      <th>lease_commence_date</th>\n",
       "      <th>resale_price</th>\n",
       "      <th>town_cat</th>\n",
       "      <th>flat_type_cat</th>\n",
       "      <th>flat_model_cat</th>\n",
       "    </tr>\n",
       "  </thead>\n",
       "  <tbody>\n",
       "    <tr>\n",
       "      <th>333</th>\n",
       "      <td>1990-01</td>\n",
       "      <td>BEDOK</td>\n",
       "      <td>EXECUTIVE</td>\n",
       "      <td>716</td>\n",
       "      <td>BEDOK RESERVOIR RD</td>\n",
       "      <td>07 TO 09</td>\n",
       "      <td>143.0</td>\n",
       "      <td>APARTMENT</td>\n",
       "      <td>1984</td>\n",
       "      <td>200000.0</td>\n",
       "      <td>1</td>\n",
       "      <td>5</td>\n",
       "      <td>3</td>\n",
       "    </tr>\n",
       "    <tr>\n",
       "      <th>334</th>\n",
       "      <td>1990-01</td>\n",
       "      <td>BEDOK</td>\n",
       "      <td>EXECUTIVE</td>\n",
       "      <td>725</td>\n",
       "      <td>BEDOK RESERVOIR RD</td>\n",
       "      <td>01 TO 03</td>\n",
       "      <td>151.0</td>\n",
       "      <td>MAISONETTE</td>\n",
       "      <td>1984</td>\n",
       "      <td>195000.0</td>\n",
       "      <td>1</td>\n",
       "      <td>5</td>\n",
       "      <td>7</td>\n",
       "    </tr>\n",
       "    <tr>\n",
       "      <th>394</th>\n",
       "      <td>1990-01</td>\n",
       "      <td>BUKIT BATOK</td>\n",
       "      <td>EXECUTIVE</td>\n",
       "      <td>223</td>\n",
       "      <td>BT BATOK EAST AVE 3</td>\n",
       "      <td>10 TO 12</td>\n",
       "      <td>141.0</td>\n",
       "      <td>APARTMENT</td>\n",
       "      <td>1985</td>\n",
       "      <td>182000.0</td>\n",
       "      <td>3</td>\n",
       "      <td>5</td>\n",
       "      <td>3</td>\n",
       "    </tr>\n",
       "    <tr>\n",
       "      <th>395</th>\n",
       "      <td>1990-01</td>\n",
       "      <td>BUKIT BATOK</td>\n",
       "      <td>EXECUTIVE</td>\n",
       "      <td>223</td>\n",
       "      <td>BT BATOK EAST AVE 3</td>\n",
       "      <td>07 TO 09</td>\n",
       "      <td>146.0</td>\n",
       "      <td>APARTMENT</td>\n",
       "      <td>1985</td>\n",
       "      <td>183000.0</td>\n",
       "      <td>3</td>\n",
       "      <td>5</td>\n",
       "      <td>3</td>\n",
       "    </tr>\n",
       "    <tr>\n",
       "      <th>396</th>\n",
       "      <td>1990-01</td>\n",
       "      <td>BUKIT BATOK</td>\n",
       "      <td>EXECUTIVE</td>\n",
       "      <td>221</td>\n",
       "      <td>BT BATOK EAST AVE 3</td>\n",
       "      <td>07 TO 09</td>\n",
       "      <td>141.0</td>\n",
       "      <td>APARTMENT</td>\n",
       "      <td>1985</td>\n",
       "      <td>210000.0</td>\n",
       "      <td>3</td>\n",
       "      <td>5</td>\n",
       "      <td>3</td>\n",
       "    </tr>\n",
       "    <tr>\n",
       "      <th>...</th>\n",
       "      <td>...</td>\n",
       "      <td>...</td>\n",
       "      <td>...</td>\n",
       "      <td>...</td>\n",
       "      <td>...</td>\n",
       "      <td>...</td>\n",
       "      <td>...</td>\n",
       "      <td>...</td>\n",
       "      <td>...</td>\n",
       "      <td>...</td>\n",
       "      <td>...</td>\n",
       "      <td>...</td>\n",
       "      <td>...</td>\n",
       "    </tr>\n",
       "    <tr>\n",
       "      <th>147821</th>\n",
       "      <td>2023-03</td>\n",
       "      <td>BEDOK</td>\n",
       "      <td>EXECUTIVE</td>\n",
       "      <td>115</td>\n",
       "      <td>BEDOK RESERVOIR RD</td>\n",
       "      <td>04 TO 06</td>\n",
       "      <td>156.0</td>\n",
       "      <td>MAISONETTE</td>\n",
       "      <td>1985</td>\n",
       "      <td>850000.0</td>\n",
       "      <td>1</td>\n",
       "      <td>5</td>\n",
       "      <td>7</td>\n",
       "    </tr>\n",
       "    <tr>\n",
       "      <th>147837</th>\n",
       "      <td>2023-03</td>\n",
       "      <td>CHOA CHU KANG</td>\n",
       "      <td>EXECUTIVE</td>\n",
       "      <td>273</td>\n",
       "      <td>CHOA CHU KANG AVE 2</td>\n",
       "      <td>01 TO 03</td>\n",
       "      <td>143.0</td>\n",
       "      <td>APARTMENT</td>\n",
       "      <td>1993</td>\n",
       "      <td>650000.0</td>\n",
       "      <td>8</td>\n",
       "      <td>5</td>\n",
       "      <td>3</td>\n",
       "    </tr>\n",
       "    <tr>\n",
       "      <th>147838</th>\n",
       "      <td>2023-03</td>\n",
       "      <td>CHOA CHU KANG</td>\n",
       "      <td>EXECUTIVE</td>\n",
       "      <td>448</td>\n",
       "      <td>CHOA CHU KANG AVE 4</td>\n",
       "      <td>13 TO 15</td>\n",
       "      <td>143.0</td>\n",
       "      <td>MAISONETTE</td>\n",
       "      <td>1997</td>\n",
       "      <td>790000.0</td>\n",
       "      <td>8</td>\n",
       "      <td>5</td>\n",
       "      <td>7</td>\n",
       "    </tr>\n",
       "    <tr>\n",
       "      <th>147848</th>\n",
       "      <td>2023-03</td>\n",
       "      <td>HOUGANG</td>\n",
       "      <td>EXECUTIVE</td>\n",
       "      <td>132</td>\n",
       "      <td>LOR AH SOO</td>\n",
       "      <td>04 TO 06</td>\n",
       "      <td>151.0</td>\n",
       "      <td>MAISONETTE</td>\n",
       "      <td>1984</td>\n",
       "      <td>840000.0</td>\n",
       "      <td>11</td>\n",
       "      <td>5</td>\n",
       "      <td>7</td>\n",
       "    </tr>\n",
       "    <tr>\n",
       "      <th>147855</th>\n",
       "      <td>2023-03</td>\n",
       "      <td>JURONG WEST</td>\n",
       "      <td>EXECUTIVE</td>\n",
       "      <td>859</td>\n",
       "      <td>JURONG WEST ST 81</td>\n",
       "      <td>01 TO 03</td>\n",
       "      <td>146.0</td>\n",
       "      <td>MAISONETTE</td>\n",
       "      <td>1997</td>\n",
       "      <td>700000.0</td>\n",
       "      <td>13</td>\n",
       "      <td>5</td>\n",
       "      <td>7</td>\n",
       "    </tr>\n",
       "  </tbody>\n",
       "</table>\n",
       "<p>67697 rows × 13 columns</p>\n",
       "</div>"
      ],
      "text/plain": [
       "          month           town  flat_type block          street_name  \\\n",
       "333     1990-01          BEDOK  EXECUTIVE   716   BEDOK RESERVOIR RD   \n",
       "334     1990-01          BEDOK  EXECUTIVE   725   BEDOK RESERVOIR RD   \n",
       "394     1990-01    BUKIT BATOK  EXECUTIVE   223  BT BATOK EAST AVE 3   \n",
       "395     1990-01    BUKIT BATOK  EXECUTIVE   223  BT BATOK EAST AVE 3   \n",
       "396     1990-01    BUKIT BATOK  EXECUTIVE   221  BT BATOK EAST AVE 3   \n",
       "...         ...            ...        ...   ...                  ...   \n",
       "147821  2023-03          BEDOK  EXECUTIVE   115   BEDOK RESERVOIR RD   \n",
       "147837  2023-03  CHOA CHU KANG  EXECUTIVE   273  CHOA CHU KANG AVE 2   \n",
       "147838  2023-03  CHOA CHU KANG  EXECUTIVE   448  CHOA CHU KANG AVE 4   \n",
       "147848  2023-03        HOUGANG  EXECUTIVE   132           LOR AH SOO   \n",
       "147855  2023-03    JURONG WEST  EXECUTIVE   859    JURONG WEST ST 81   \n",
       "\n",
       "       storey_range  floor_area_sqm  flat_model  lease_commence_date  \\\n",
       "333        07 TO 09           143.0   APARTMENT                 1984   \n",
       "334        01 TO 03           151.0  MAISONETTE                 1984   \n",
       "394        10 TO 12           141.0   APARTMENT                 1985   \n",
       "395        07 TO 09           146.0   APARTMENT                 1985   \n",
       "396        07 TO 09           141.0   APARTMENT                 1985   \n",
       "...             ...             ...         ...                  ...   \n",
       "147821     04 TO 06           156.0  MAISONETTE                 1985   \n",
       "147837     01 TO 03           143.0   APARTMENT                 1993   \n",
       "147838     13 TO 15           143.0  MAISONETTE                 1997   \n",
       "147848     04 TO 06           151.0  MAISONETTE                 1984   \n",
       "147855     01 TO 03           146.0  MAISONETTE                 1997   \n",
       "\n",
       "        resale_price  town_cat  flat_type_cat  flat_model_cat  \n",
       "333         200000.0         1              5               3  \n",
       "334         195000.0         1              5               7  \n",
       "394         182000.0         3              5               3  \n",
       "395         183000.0         3              5               3  \n",
       "396         210000.0         3              5               3  \n",
       "...              ...       ...            ...             ...  \n",
       "147821      850000.0         1              5               7  \n",
       "147837      650000.0         8              5               3  \n",
       "147838      790000.0         8              5               7  \n",
       "147848      840000.0        11              5               7  \n",
       "147855      700000.0        13              5               7  \n",
       "\n",
       "[67697 rows x 13 columns]"
      ]
     },
     "execution_count": 45,
     "metadata": {},
     "output_type": "execute_result"
    }
   ],
   "source": [
    "converted_df[converted_df['flat_type_cat'] == 5]"
   ]
  },
  {
   "cell_type": "code",
   "execution_count": 34,
   "id": "774aaa46-51bd-42fa-8287-56cbe685f00a",
   "metadata": {},
   "outputs": [
    {
     "data": {
      "text/plain": [
       "<seaborn.axisgrid.FacetGrid at 0x1e414aa3f40>"
      ]
     },
     "execution_count": 34,
     "metadata": {},
     "output_type": "execute_result"
    },
    {
     "data": {
      "image/png": "[encoded data removed]",
      "text/plain": [
       "<Figure size 500x500 with 1 Axes>"
      ]
     },
     "metadata": {},
     "output_type": "display_data"
    }
   ],
   "source": [
    "sns.lmplot(data=df_1, y=\"resale_price\", x=\"floor_area_sqm\")"
   ]
  },
  {
   "cell_type": "markdown",
   "id": "14e90306-973f-4aa3-a396-7766399677e7",
   "metadata": {},
   "source": [
    "#### Check outlier"
   ]
  },
  {
   "cell_type": "code",
   "execution_count": 35,
   "id": "81bfe4a0-6ffc-4c7a-9ab5-0bf24f2b8319",
   "metadata": {},
   "outputs": [
    {
     "data": {
      "text/plain": [
       "<AxesSubplot: xlabel='resale_price'>"
      ]
     },
     "execution_count": 35,
     "metadata": {},
     "output_type": "execute_result"
    },
    {
     "data": {
      "image/png": "[encoded data removed]",
      "text/plain": [
       "<Figure size 640x480 with 1 Axes>"
      ]
     },
     "metadata": {},
     "output_type": "display_data"
    }
   ],
   "source": [
    "sns.boxplot(x=df_1[\"resale_price\"])"
   ]
  },
  {
   "cell_type": "code",
   "execution_count": 36,
   "id": "0fdc9a19-1dc0-449d-a4f4-2788955e2d77",
   "metadata": {},
   "outputs": [
    {
     "data": {
      "text/plain": [
       "<AxesSubplot: xlabel='lease_commence_date'>"
      ]
     },
     "execution_count": 36,
     "metadata": {},
     "output_type": "execute_result"
    },
    {
     "data": {
      "image/png": "[encoded data removed]",
      "text/plain": [
       "<Figure size 640x480 with 1 Axes>"
      ]
     },
     "metadata": {},
     "output_type": "display_data"
    }
   ],
   "source": [
    "sns.boxplot(x=df_1[\"lease_commence_date\"])"
   ]
  },
  {
   "cell_type": "code",
   "execution_count": 37,
   "id": "7d1ab72b-dbdd-49a6-83f9-2281414e770a",
   "metadata": {},
   "outputs": [
    {
     "data": {
      "text/plain": [
       "<AxesSubplot: xlabel='floor_area_sqm'>"
      ]
     },
     "execution_count": 37,
     "metadata": {},
     "output_type": "execute_result"
    },
    {
     "data": {
      "image/png": "[encoded data removed]",
      "text/plain": [
       "<Figure size 640x480 with 1 Axes>"
      ]
     },
     "metadata": {},
     "output_type": "display_data"
    }
   ],
   "source": [
    "sns.boxplot(x=df_1[\"floor_area_sqm\"])"
   ]
  },
  {
   "cell_type": "code",
   "execution_count": 38,
   "id": "4c4b0bd9-18df-4365-829b-c239899edf91",
   "metadata": {},
   "outputs": [
    {
     "data": {
      "text/plain": [
       "<AxesSubplot: xlabel='flat_type_cat'>"
      ]
     },
     "execution_count": 38,
     "metadata": {},
     "output_type": "execute_result"
    },
    {
     "data": {
      "image/png": "[encoded data removed]",
      "text/plain": [
       "<Figure size 640x480 with 1 Axes>"
      ]
     },
     "metadata": {},
     "output_type": "display_data"
    }
   ],
   "source": [
    "sns.boxplot(x=df_1['flat_type_cat'])"
   ]
  },
  {
   "cell_type": "code",
   "execution_count": null,
   "id": "2509bcfd-f5b6-4b95-95a5-507e67fa7ce3",
   "metadata": {},
   "outputs": [],
   "source": []
  },
  {
   "cell_type": "markdown",
   "id": "84f88202-4316-4c5c-8187-00a265a2b9bb",
   "metadata": {
    "tags": []
   },
   "source": [
    "### Plotting time-series graph\n",
    "\n",
    "Strategy:\n",
    "1. Avg resale price by flat type and month\n",
    "2. Avg resale price by lease commence date and month\n",
    "3. Avg resale price by town and month\n",
    "4. Count by no of transaction by month and show avg trasaction price\n",
    "\n",
    "FYI, \n",
    "1. Story range is not standarized data, too much variation between data\n",
    "2. Flat model is too diversed, cannot be used as feature due to low correlation"
   ]
  },
  {
   "cell_type": "code",
   "execution_count": 25,
   "id": "2529a3d7-0c0f-476c-8804-a393ca6977e7",
   "metadata": {},
   "outputs": [
    {
     "data": {
      "text/html": [
       "<div>\n",
       "<style scoped>\n",
       "    .dataframe tbody tr th:only-of-type {\n",
       "        vertical-align: middle;\n",
       "    }\n",
       "\n",
       "    .dataframe tbody tr th {\n",
       "        vertical-align: top;\n",
       "    }\n",
       "\n",
       "    .dataframe thead th {\n",
       "        text-align: right;\n",
       "    }\n",
       "</style>\n",
       "<table border=\"1\" class=\"dataframe\">\n",
       "  <thead>\n",
       "    <tr style=\"text-align: right;\">\n",
       "      <th></th>\n",
       "      <th>month</th>\n",
       "      <th>town</th>\n",
       "      <th>flat_type</th>\n",
       "      <th>block</th>\n",
       "      <th>street_name</th>\n",
       "      <th>storey_range</th>\n",
       "      <th>floor_area_sqm</th>\n",
       "      <th>flat_model</th>\n",
       "      <th>lease_commence_date</th>\n",
       "      <th>resale_price</th>\n",
       "      <th>town_cat</th>\n",
       "      <th>flat_type_cat</th>\n",
       "      <th>flat_model_cat</th>\n",
       "    </tr>\n",
       "  </thead>\n",
       "  <tbody>\n",
       "    <tr>\n",
       "      <th>0</th>\n",
       "      <td>1990-01</td>\n",
       "      <td>ANG MO KIO</td>\n",
       "      <td>1 ROOM</td>\n",
       "      <td>309</td>\n",
       "      <td>ANG MO KIO AVE 1</td>\n",
       "      <td>10 TO 12</td>\n",
       "      <td>31.0</td>\n",
       "      <td>IMPROVED</td>\n",
       "      <td>1977</td>\n",
       "      <td>9000.0</td>\n",
       "      <td>0</td>\n",
       "      <td>0</td>\n",
       "      <td>5</td>\n",
       "    </tr>\n",
       "    <tr>\n",
       "      <th>1</th>\n",
       "      <td>1990-01</td>\n",
       "      <td>ANG MO KIO</td>\n",
       "      <td>1 ROOM</td>\n",
       "      <td>309</td>\n",
       "      <td>ANG MO KIO AVE 1</td>\n",
       "      <td>04 TO 06</td>\n",
       "      <td>31.0</td>\n",
       "      <td>IMPROVED</td>\n",
       "      <td>1977</td>\n",
       "      <td>6000.0</td>\n",
       "      <td>0</td>\n",
       "      <td>0</td>\n",
       "      <td>5</td>\n",
       "    </tr>\n",
       "    <tr>\n",
       "      <th>2</th>\n",
       "      <td>1990-01</td>\n",
       "      <td>ANG MO KIO</td>\n",
       "      <td>1 ROOM</td>\n",
       "      <td>309</td>\n",
       "      <td>ANG MO KIO AVE 1</td>\n",
       "      <td>10 TO 12</td>\n",
       "      <td>31.0</td>\n",
       "      <td>IMPROVED</td>\n",
       "      <td>1977</td>\n",
       "      <td>8000.0</td>\n",
       "      <td>0</td>\n",
       "      <td>0</td>\n",
       "      <td>5</td>\n",
       "    </tr>\n",
       "    <tr>\n",
       "      <th>3</th>\n",
       "      <td>1990-01</td>\n",
       "      <td>ANG MO KIO</td>\n",
       "      <td>1 ROOM</td>\n",
       "      <td>309</td>\n",
       "      <td>ANG MO KIO AVE 1</td>\n",
       "      <td>07 TO 09</td>\n",
       "      <td>31.0</td>\n",
       "      <td>IMPROVED</td>\n",
       "      <td>1977</td>\n",
       "      <td>6000.0</td>\n",
       "      <td>0</td>\n",
       "      <td>0</td>\n",
       "      <td>5</td>\n",
       "    </tr>\n",
       "    <tr>\n",
       "      <th>4</th>\n",
       "      <td>1990-01</td>\n",
       "      <td>ANG MO KIO</td>\n",
       "      <td>3 ROOM</td>\n",
       "      <td>216</td>\n",
       "      <td>ANG MO KIO AVE 1</td>\n",
       "      <td>04 TO 06</td>\n",
       "      <td>73.0</td>\n",
       "      <td>NEW GENERATION</td>\n",
       "      <td>1976</td>\n",
       "      <td>47200.0</td>\n",
       "      <td>0</td>\n",
       "      <td>2</td>\n",
       "      <td>12</td>\n",
       "    </tr>\n",
       "    <tr>\n",
       "      <th>...</th>\n",
       "      <td>...</td>\n",
       "      <td>...</td>\n",
       "      <td>...</td>\n",
       "      <td>...</td>\n",
       "      <td>...</td>\n",
       "      <td>...</td>\n",
       "      <td>...</td>\n",
       "      <td>...</td>\n",
       "      <td>...</td>\n",
       "      <td>...</td>\n",
       "      <td>...</td>\n",
       "      <td>...</td>\n",
       "      <td>...</td>\n",
       "    </tr>\n",
       "    <tr>\n",
       "      <th>147905</th>\n",
       "      <td>2023-03</td>\n",
       "      <td>YISHUN</td>\n",
       "      <td>3 ROOM</td>\n",
       "      <td>270</td>\n",
       "      <td>YISHUN ST 22</td>\n",
       "      <td>10 TO 12</td>\n",
       "      <td>74.0</td>\n",
       "      <td>MODEL A</td>\n",
       "      <td>1987</td>\n",
       "      <td>350000.0</td>\n",
       "      <td>26</td>\n",
       "      <td>2</td>\n",
       "      <td>8</td>\n",
       "    </tr>\n",
       "    <tr>\n",
       "      <th>147906</th>\n",
       "      <td>2023-03</td>\n",
       "      <td>YISHUN</td>\n",
       "      <td>4 ROOM</td>\n",
       "      <td>236</td>\n",
       "      <td>YISHUN RING RD</td>\n",
       "      <td>01 TO 03</td>\n",
       "      <td>93.0</td>\n",
       "      <td>NEW GENERATION</td>\n",
       "      <td>1985</td>\n",
       "      <td>450000.0</td>\n",
       "      <td>26</td>\n",
       "      <td>3</td>\n",
       "      <td>12</td>\n",
       "    </tr>\n",
       "    <tr>\n",
       "      <th>147907</th>\n",
       "      <td>2023-03</td>\n",
       "      <td>YISHUN</td>\n",
       "      <td>4 ROOM</td>\n",
       "      <td>279</td>\n",
       "      <td>YISHUN ST 22</td>\n",
       "      <td>07 TO 09</td>\n",
       "      <td>84.0</td>\n",
       "      <td>SIMPLIFIED</td>\n",
       "      <td>1985</td>\n",
       "      <td>390000.0</td>\n",
       "      <td>26</td>\n",
       "      <td>3</td>\n",
       "      <td>16</td>\n",
       "    </tr>\n",
       "    <tr>\n",
       "      <th>147908</th>\n",
       "      <td>2023-03</td>\n",
       "      <td>YISHUN</td>\n",
       "      <td>4 ROOM</td>\n",
       "      <td>513C</td>\n",
       "      <td>YISHUN ST 51</td>\n",
       "      <td>07 TO 09</td>\n",
       "      <td>93.0</td>\n",
       "      <td>MODEL A</td>\n",
       "      <td>2018</td>\n",
       "      <td>550000.0</td>\n",
       "      <td>26</td>\n",
       "      <td>3</td>\n",
       "      <td>8</td>\n",
       "    </tr>\n",
       "    <tr>\n",
       "      <th>147909</th>\n",
       "      <td>2023-03</td>\n",
       "      <td>YISHUN</td>\n",
       "      <td>5 ROOM</td>\n",
       "      <td>820</td>\n",
       "      <td>YISHUN ST 81</td>\n",
       "      <td>07 TO 09</td>\n",
       "      <td>122.0</td>\n",
       "      <td>IMPROVED</td>\n",
       "      <td>1988</td>\n",
       "      <td>650000.0</td>\n",
       "      <td>26</td>\n",
       "      <td>4</td>\n",
       "      <td>5</td>\n",
       "    </tr>\n",
       "  </tbody>\n",
       "</table>\n",
       "<p>894113 rows × 13 columns</p>\n",
       "</div>"
      ],
      "text/plain": [
       "          month        town flat_type block       street_name storey_range  \\\n",
       "0       1990-01  ANG MO KIO    1 ROOM   309  ANG MO KIO AVE 1     10 TO 12   \n",
       "1       1990-01  ANG MO KIO    1 ROOM   309  ANG MO KIO AVE 1     04 TO 06   \n",
       "2       1990-01  ANG MO KIO    1 ROOM   309  ANG MO KIO AVE 1     10 TO 12   \n",
       "3       1990-01  ANG MO KIO    1 ROOM   309  ANG MO KIO AVE 1     07 TO 09   \n",
       "4       1990-01  ANG MO KIO    3 ROOM   216  ANG MO KIO AVE 1     04 TO 06   \n",
       "...         ...         ...       ...   ...               ...          ...   \n",
       "147905  2023-03      YISHUN    3 ROOM   270      YISHUN ST 22     10 TO 12   \n",
       "147906  2023-03      YISHUN    4 ROOM   236    YISHUN RING RD     01 TO 03   \n",
       "147907  2023-03      YISHUN    4 ROOM   279      YISHUN ST 22     07 TO 09   \n",
       "147908  2023-03      YISHUN    4 ROOM  513C      YISHUN ST 51     07 TO 09   \n",
       "147909  2023-03      YISHUN    5 ROOM   820      YISHUN ST 81     07 TO 09   \n",
       "\n",
       "        floor_area_sqm      flat_model  lease_commence_date  resale_price  \\\n",
       "0                 31.0        IMPROVED                 1977        9000.0   \n",
       "1                 31.0        IMPROVED                 1977        6000.0   \n",
       "2                 31.0        IMPROVED                 1977        8000.0   \n",
       "3                 31.0        IMPROVED                 1977        6000.0   \n",
       "4                 73.0  NEW GENERATION                 1976       47200.0   \n",
       "...                ...             ...                  ...           ...   \n",
       "147905            74.0         MODEL A                 1987      350000.0   \n",
       "147906            93.0  NEW GENERATION                 1985      450000.0   \n",
       "147907            84.0      SIMPLIFIED                 1985      390000.0   \n",
       "147908            93.0         MODEL A                 2018      550000.0   \n",
       "147909           122.0        IMPROVED                 1988      650000.0   \n",
       "\n",
       "        town_cat  flat_type_cat  flat_model_cat  \n",
       "0              0              0               5  \n",
       "1              0              0               5  \n",
       "2              0              0               5  \n",
       "3              0              0               5  \n",
       "4              0              2              12  \n",
       "...          ...            ...             ...  \n",
       "147905        26              2               8  \n",
       "147906        26              3              12  \n",
       "147907        26              3              16  \n",
       "147908        26              3               8  \n",
       "147909        26              4               5  \n",
       "\n",
       "[894113 rows x 13 columns]"
      ]
     },
     "execution_count": 25,
     "metadata": {},
     "output_type": "execute_result"
    }
   ],
   "source": [
    "converted_df"
   ]
  },
  {
   "cell_type": "code",
   "execution_count": null,
   "id": "bdad4a69-0901-4b7e-b203-30a99dd29826",
   "metadata": {},
   "outputs": [],
   "source": []
  },
  {
   "cell_type": "code",
   "execution_count": null,
   "id": "a99735b7-44f2-47cd-83db-9205e33c06da",
   "metadata": {},
   "outputs": [],
   "source": []
  },
  {
   "cell_type": "raw",
   "id": "4e392756-8dc4-4aa4-be38-8829be1722e8",
   "metadata": {
    "tags": []
   },
   "source": [
    "# Create figure\n",
    "\n",
    "fig = plt.figure(figsize=(12, 8))\n",
    "\n",
    "# Plot time series\n",
    "\n",
    "plt.plot(converted_df['month'], converted_df['flat_type'], label='flat_type', \n",
    "         linewidth=3)\n",
    "\n",
    "# Add title and labels\n",
    "\n",
    "plt.title('Blogs by Date')\n",
    "plt.xlabel('Date')\n",
    "plt.ylabel('Blogs')\n",
    "\n",
    "# Add legend\n",
    "\n",
    "plt.legend()\n",
    "\n",
    "# Auto space\n",
    "\n",
    "plt.tight_layout()\n",
    "\n",
    "# Display plot\n",
    "\n",
    "plt.show() "
   ]
  },
  {
   "cell_type": "raw",
   "id": "1658c0c8-9a73-4e8d-b04e-8edb59dcb632",
   "metadata": {},
   "source": [
    "# Initilaize list \n",
    "\n",
    "X = list(converted_df.iloc[:,0])\n",
    "Y = list(converted_df.iloc[:,9])\n",
    "\n",
    "# Set figure\n",
    "\n",
    "plt.figure(figsize=(12,10))\n",
    "\n",
    "# Seaborn\n",
    "\n",
    "sns.lineplot(x=X, y=Y)\n",
    "\n",
    "# Setting Ticks\n",
    "\n",
    "plt.tick_params(axis='x',labelsize=15,rotation=90)\n",
    "plt.tight_layout()\n",
    "\n",
    "# Display\n",
    "\n",
    "plt.show()\n"
   ]
  },
  {
   "cell_type": "code",
   "execution_count": null,
   "id": "5f4611f9-4997-4570-9073-0e86dcb2d934",
   "metadata": {},
   "outputs": [],
   "source": []
  },
  {
   "cell_type": "markdown",
   "id": "a6118030-9648-456e-bc3f-b3027cc1cde3",
   "metadata": {
    "tags": []
   },
   "source": [
    "### Standardization and Normalization"
   ]
  },
  {
   "cell_type": "markdown",
   "id": "ae053dac-4829-44d4-9392-8d89b48c4ef0",
   "metadata": {
    "tags": []
   },
   "source": [
    "#### Standardization"
   ]
  },
  {
   "cell_type": "code",
   "execution_count": 47,
   "id": "5f0566ef-0482-487e-9b9c-a52dc8ac7920",
   "metadata": {},
   "outputs": [],
   "source": [
    "from sklearn.preprocessing import StandardScaler\n",
    "s_scaler = StandardScaler()\n",
    "s_scaled = s_scaler.fit_transform(df_1)\n",
    "#Convert to table format - StandardScaler \n",
    "scaled_df = pd.DataFrame(data=s_scaled, columns=['resale_price', 'floor_area_sqm', 'lease_commence_date','flat_type_cat'])"
   ]
  },
  {
   "cell_type": "markdown",
   "id": "8bdbc9d7-fb66-4ca2-b50f-fb5ab5bc3ce5",
   "metadata": {
    "jp-MarkdownHeadingCollapsed": true,
    "tags": []
   },
   "source": [
    "#### Normalization (Min-Max)"
   ]
  },
  {
   "cell_type": "code",
   "execution_count": null,
   "id": "eafcfc64-d918-423c-a60c-ec7cd12edf10",
   "metadata": {},
   "outputs": [],
   "source": [
    "from sklearn.preprocessing import MinMaxScaler\n",
    "mm_scaler = MinMaxScaler()\n",
    "mm_scaler.fit(converted_df)\n",
    "mm_scaled = mm_scaler.transform(converted_df)\n",
    "#Convert to table format - MinMaxScaler\n",
    "mm_df = pd.DataFrame(data=mm_scaled, columns=['floor_area_sqm','town_cat', 'flat_type_cat', 'flat_model_cat','resale_price'])"
   ]
  },
  {
   "cell_type": "markdown",
   "id": "60a8c094-7638-446e-91b3-85664e6ab28b",
   "metadata": {
    "jp-MarkdownHeadingCollapsed": true,
    "tags": []
   },
   "source": [
    "### Training using DecisionTree"
   ]
  },
  {
   "cell_type": "code",
   "execution_count": null,
   "id": "b230f7b0-b205-471d-8bcb-1b1c187483cb",
   "metadata": {},
   "outputs": [],
   "source": [
    "#### Train-test split"
   ]
  },
  {
   "cell_type": "code",
   "execution_count": 48,
   "id": "b675213a-a763-4731-b1ea-e1c5ecb8eb17",
   "metadata": {},
   "outputs": [],
   "source": [
    "from sklearn.model_selection import train_test_split\n",
    "X = scaled_df[['floor_area_sqm', 'lease_commence_date','flat_type_cat']]\n",
    "y = scaled_df[['resale_price']]\n",
    "\n",
    "X_train, X_test, y_train, y_test = train_test_split(X, y, test_size=0.33, random_state=42)"
   ]
  },
  {
   "cell_type": "markdown",
   "id": "22286109-aad6-4520-9057-83e54b87abd0",
   "metadata": {},
   "source": [
    "X = scaled_df[['floor_area_sqm','town_cat', 'flat_type_cat', 'flat_model_cat']]\n",
    "y = scaled_df[['resale_price']]\n",
    "\n",
    "X_train, X_test, y_train, y_test = train_test_split(X, y, test_size=0.33, random_state=42)"
   ]
  },
  {
   "cell_type": "code",
   "execution_count": 49,
   "id": "7ab96edd-f345-4622-877d-945aa7786158",
   "metadata": {},
   "outputs": [
    {
     "data": {
      "text/html": [
       "<style>#sk-container-id-1 {color: black;background-color: white;}#sk-container-id-1 pre{padding: 0;}#sk-container-id-1 div.sk-toggleable {background-color: white;}#sk-container-id-1 label.sk-toggleable__label {cursor: pointer;display: block;width: 100%;margin-bottom: 0;padding: 0.3em;box-sizing: border-box;text-align: center;}#sk-container-id-1 label.sk-toggleable__label-arrow:before {content: \"▸\";float: left;margin-right: 0.25em;color: #696969;}#sk-container-id-1 label.sk-toggleable__label-arrow:hover:before {color: black;}#sk-container-id-1 div.sk-estimator:hover label.sk-toggleable__label-arrow:before {color: black;}#sk-container-id-1 div.sk-toggleable__content {max-height: 0;max-width: 0;overflow: hidden;text-align: left;background-color: #f0f8ff;}#sk-container-id-1 div.sk-toggleable__content pre {margin: 0.2em;color: black;border-radius: 0.25em;background-color: #f0f8ff;}#sk-container-id-1 input.sk-toggleable__control:checked~div.sk-toggleable__content {max-height: 200px;max-width: 100%;overflow: auto;}#sk-container-id-1 input.sk-toggleable__control:checked~label.sk-toggleable__label-arrow:before {content: \"▾\";}#sk-container-id-1 div.sk-estimator input.sk-toggleable__control:checked~label.sk-toggleable__label {background-color: #d4ebff;}#sk-container-id-1 div.sk-label input.sk-toggleable__control:checked~label.sk-toggleable__label {background-color: #d4ebff;}#sk-container-id-1 input.sk-hidden--visually {border: 0;clip: rect(1px 1px 1px 1px);clip: rect(1px, 1px, 1px, 1px);height: 1px;margin: -1px;overflow: hidden;padding: 0;position: absolute;width: 1px;}#sk-container-id-1 div.sk-estimator {font-family: monospace;background-color: #f0f8ff;border: 1px dotted black;border-radius: 0.25em;box-sizing: border-box;margin-bottom: 0.5em;}#sk-container-id-1 div.sk-estimator:hover {background-color: #d4ebff;}#sk-container-id-1 div.sk-parallel-item::after {content: \"\";width: 100%;border-bottom: 1px solid gray;flex-grow: 1;}#sk-container-id-1 div.sk-label:hover label.sk-toggleable__label {background-color: #d4ebff;}#sk-container-id-1 div.sk-serial::before {content: \"\";position: absolute;border-left: 1px solid gray;box-sizing: border-box;top: 0;bottom: 0;left: 50%;z-index: 0;}#sk-container-id-1 div.sk-serial {display: flex;flex-direction: column;align-items: center;background-color: white;padding-right: 0.2em;padding-left: 0.2em;position: relative;}#sk-container-id-1 div.sk-item {position: relative;z-index: 1;}#sk-container-id-1 div.sk-parallel {display: flex;align-items: stretch;justify-content: center;background-color: white;position: relative;}#sk-container-id-1 div.sk-item::before, #sk-container-id-1 div.sk-parallel-item::before {content: \"\";position: absolute;border-left: 1px solid gray;box-sizing: border-box;top: 0;bottom: 0;left: 50%;z-index: -1;}#sk-container-id-1 div.sk-parallel-item {display: flex;flex-direction: column;z-index: 1;position: relative;background-color: white;}#sk-container-id-1 div.sk-parallel-item:first-child::after {align-self: flex-end;width: 50%;}#sk-container-id-1 div.sk-parallel-item:last-child::after {align-self: flex-start;width: 50%;}#sk-container-id-1 div.sk-parallel-item:only-child::after {width: 0;}#sk-container-id-1 div.sk-dashed-wrapped {border: 1px dashed gray;margin: 0 0.4em 0.5em 0.4em;box-sizing: border-box;padding-bottom: 0.4em;background-color: white;}#sk-container-id-1 div.sk-label label {font-family: monospace;font-weight: bold;display: inline-block;line-height: 1.2em;}#sk-container-id-1 div.sk-label-container {text-align: center;}#sk-container-id-1 div.sk-container {/* jupyter's `normalize.less` sets `[hidden] { display: none; }` but bootstrap.min.css set `[hidden] { display: none !important; }` so we also need the `!important` here to be able to override the default hidden behavior on the sphinx rendered scikit-learn.org. See: https://github.com/scikit-learn/scikit-learn/issues/21755 */display: inline-block !important;position: relative;}#sk-container-id-1 div.sk-text-repr-fallback {display: none;}</style><div id=\"sk-container-id-1\" class=\"sk-top-container\"><div class=\"sk-text-repr-fallback\"><pre>DecisionTreeRegressor(max_depth=100)</pre><b>In a Jupyter environment, please rerun this cell to show the HTML representation or trust the notebook. <br />On GitHub, the HTML representation is unable to render, please try loading this page with nbviewer.org.</b></div><div class=\"sk-container\" hidden><div class=\"sk-item\"><div class=\"sk-estimator sk-toggleable\"><input class=\"sk-toggleable__control sk-hidden--visually\" id=\"sk-estimator-id-1\" type=\"checkbox\" checked><label for=\"sk-estimator-id-1\" class=\"sk-toggleable__label sk-toggleable__label-arrow\">DecisionTreeRegressor</label><div class=\"sk-toggleable__content\"><pre>DecisionTreeRegressor(max_depth=100)</pre></div></div></div></div></div>"
      ],
      "text/plain": [
       "DecisionTreeRegressor(max_depth=100)"
      ]
     },
     "execution_count": 49,
     "metadata": {},
     "output_type": "execute_result"
    }
   ],
   "source": [
    "from sklearn import tree\n",
    "dt5 = tree.DecisionTreeRegressor(max_depth=100)\n",
    "dt5.fit(X_train, y_train)"
   ]
  },
  {
   "cell_type": "code",
   "execution_count": 50,
   "id": "06d71156-575c-477d-bdaf-916a541479eb",
   "metadata": {},
   "outputs": [],
   "source": [
    "y_pred = dt5.predict(X_test)"
   ]
  },
  {
   "cell_type": "code",
   "execution_count": 51,
   "id": "4dd56ecc-6ef5-4158-8080-b3ce168ddc16",
   "metadata": {},
   "outputs": [
    {
     "data": {
      "text/plain": [
       "0.656485933778073"
      ]
     },
     "execution_count": 51,
     "metadata": {},
     "output_type": "execute_result"
    }
   ],
   "source": [
    "from sklearn.metrics import mean_squared_error  \n",
    "# Calculation of Mean Squared Error (MSE)  \n",
    "mean_squared_error(y_test,y_pred,squared=False)  "
   ]
  },
  {
   "cell_type": "code",
   "execution_count": 52,
   "id": "de19d0d5-fbe4-4c1c-b9bf-d74e69b441d5",
   "metadata": {},
   "outputs": [],
   "source": [
    "y_test_arr = y_test.to_numpy()"
   ]
  },
  {
   "cell_type": "code",
   "execution_count": 59,
   "id": "255061bc-2690-46f3-9466-90a1e04b7e59",
   "metadata": {},
   "outputs": [
    {
     "name": "stdout",
     "output_type": "stream",
     "text": [
      "[0.54771254] -0.03218318935618713\n"
     ]
    }
   ],
   "source": [
    "def checkOriginalandPred(y_test,y_pred,num):\n",
    "    orig = y_test[num]\n",
    "    pred = y_pred[num]\n",
    "    print(orig, pred)\n",
    "checkOriginalandPred(y_test_arr,y_pred,num=1500)"
   ]
  },
  {
   "cell_type": "code",
   "execution_count": 54,
   "id": "b85f85c6-0595-4293-940d-0ff12f355d0d",
   "metadata": {},
   "outputs": [
    {
     "name": "stdout",
     "output_type": "stream",
     "text": [
      "[[9.000e+03 3.100e+01 1.977e+03 0.000e+00]\n",
      " [6.000e+03 3.100e+01 1.977e+03 0.000e+00]\n",
      " [8.000e+03 3.100e+01 1.977e+03 0.000e+00]\n",
      " ...\n",
      " [3.900e+05 8.400e+01 1.985e+03 3.000e+00]\n",
      " [5.500e+05 9.300e+01 2.018e+03 3.000e+00]\n",
      " [6.500e+05 1.220e+02 1.988e+03 4.000e+00]]\n"
     ]
    }
   ],
   "source": [
    "# for inverse transformation\n",
    "inversed = s_scaler.inverse_transform(s_scaled)\n",
    "print(inversed)"
   ]
  },
  {
   "cell_type": "markdown",
   "id": "1cce9163-bdcf-4488-89a2-3c17b4749b63",
   "metadata": {},
   "source": [
    "### Training using SVR"
   ]
  },
  {
   "cell_type": "code",
   "execution_count": 60,
   "id": "cdfcb795-8dff-49de-8b31-6e02bb3fb928",
   "metadata": {},
   "outputs": [],
   "source": [
    "from sklearn import svm\n",
    "svr = svm.SVR()"
   ]
  },
  {
   "cell_type": "code",
   "execution_count": 61,
   "id": "edda59b9-7430-4253-917a-f1d2b16604ae",
   "metadata": {},
   "outputs": [],
   "source": [
    "from sklearn.model_selection import train_test_split\n",
    "X = scaled_df[['floor_area_sqm', 'lease_commence_date','flat_type_cat']]\n",
    "y = scaled_df[['resale_price']]\n",
    "\n",
    "X_train, X_test, y_train, y_test = train_test_split(X, y, test_size=0.33, random_state=42)"
   ]
  },
  {
   "cell_type": "code",
   "execution_count": null,
   "id": "2ebc0f14-e8f4-4eb4-afe5-3534d894671e",
   "metadata": {},
   "outputs": [],
   "source": [
    "svr_fitted = svr.fit(X_train, y_train)"
   ]
  },
  {
   "cell_type": "code",
   "execution_count": null,
   "id": "60043140-ef86-4af0-87ed-2f62e57a52d7",
   "metadata": {},
   "outputs": [],
   "source": [
    "y_pred = svr_fitted.predict(x_test)"
   ]
  },
  {
   "cell_type": "code",
   "execution_count": null,
   "id": "d85162f7-52ef-4dc4-833b-248734007083",
   "metadata": {},
   "outputs": [],
   "source": [
    "from sklearn.metrics import mean_squared_error  \n",
    "# Calculation of Mean Squared Error (MSE)  \n",
    "mean_squared_error(y_test,y_pred,squared=False)  "
   ]
  },
  {
   "cell_type": "markdown",
   "id": "2add3bf8-0dd8-4140-b581-e9ec166a5ff4",
   "metadata": {},
   "source": [
    "### Test"
   ]
  },
  {
   "cell_type": "code",
   "execution_count": null,
   "id": "dc97d85d-4f26-4ce1-9ff8-315899046f7a",
   "metadata": {},
   "outputs": [],
   "source": []
  },
  {
   "cell_type": "code",
   "execution_count": null,
   "id": "0d380ffc-a53b-4b06-a7bd-6eb5ebc5c90d",
   "metadata": {},
   "outputs": [],
   "source": []
  },
  {
   "cell_type": "code",
   "execution_count": null,
   "id": "abe8fa64-e8ad-43e3-9fb6-44daefdaa505",
   "metadata": {},
   "outputs": [],
   "source": []
  }
 ],
 "metadata": {
  "kernelspec": {
   "display_name": "Python 3 (ipykernel)",
   "language": "python",
   "name": "python3"
  },
  "language_info": {
   "codemirror_mode": {
    "name": "ipython",
    "version": 3
   },
   "file_extension": ".py",
   "mimetype": "text/x-python",
   "name": "python",
   "nbconvert_exporter": "python",
   "pygments_lexer": "ipython3",
   "version": "3.10.7"
  }
 },
 "nbformat": 4,
 "nbformat_minor": 5
}
